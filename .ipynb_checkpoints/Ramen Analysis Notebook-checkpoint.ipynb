{
 "cells": [
  {
   "cell_type": "markdown",
   "id": "purple-september",
   "metadata": {},
   "source": [
    "# Ramen Products Analysis\n",
    "\n",
    "## Introduction\n",
    "\n",
    "In this notebook I will analyze a dataset containing different ramen products from many companies around the world in many presentations. My goals for this analysis will be to find:\n",
    "\n",
    "    1. What's the most popular ramen brand? What are the top 10?\n",
    "    2. What's the country with the highest rated ramen?\n",
    "    3. Average rating of ramen by country.\n",
    "    4. What style of ramen is the most popular?\n",
    "    5. What style of ramen is the highest rated?\n",
    "    6. What is the highest rated style of ramen in Japan?"
   ]
  },
  {
   "cell_type": "code",
   "execution_count": 1,
   "id": "regional-onion",
   "metadata": {},
   "outputs": [
    {
     "data": {
      "text/html": [
       "<div>\n",
       "<style scoped>\n",
       "    .dataframe tbody tr th:only-of-type {\n",
       "        vertical-align: middle;\n",
       "    }\n",
       "\n",
       "    .dataframe tbody tr th {\n",
       "        vertical-align: top;\n",
       "    }\n",
       "\n",
       "    .dataframe thead th {\n",
       "        text-align: right;\n",
       "    }\n",
       "</style>\n",
       "<table border=\"1\" class=\"dataframe\">\n",
       "  <thead>\n",
       "    <tr style=\"text-align: right;\">\n",
       "      <th></th>\n",
       "      <th>Brand</th>\n",
       "      <th>Variety</th>\n",
       "      <th>Style</th>\n",
       "      <th>Country</th>\n",
       "      <th>Stars</th>\n",
       "      <th>Top Ten</th>\n",
       "    </tr>\n",
       "    <tr>\n",
       "      <th>Review #</th>\n",
       "      <th></th>\n",
       "      <th></th>\n",
       "      <th></th>\n",
       "      <th></th>\n",
       "      <th></th>\n",
       "      <th></th>\n",
       "    </tr>\n",
       "  </thead>\n",
       "  <tbody>\n",
       "    <tr>\n",
       "      <th>2580</th>\n",
       "      <td>New Touch</td>\n",
       "      <td>T's Restaurant Tantanmen</td>\n",
       "      <td>Cup</td>\n",
       "      <td>Japan</td>\n",
       "      <td>3.75</td>\n",
       "      <td>NaN</td>\n",
       "    </tr>\n",
       "    <tr>\n",
       "      <th>2579</th>\n",
       "      <td>Just Way</td>\n",
       "      <td>Noodles Spicy Hot Sesame Spicy Hot Sesame Guan...</td>\n",
       "      <td>Pack</td>\n",
       "      <td>Taiwan</td>\n",
       "      <td>1</td>\n",
       "      <td>NaN</td>\n",
       "    </tr>\n",
       "    <tr>\n",
       "      <th>2578</th>\n",
       "      <td>Nissin</td>\n",
       "      <td>Cup Noodles Chicken Vegetable</td>\n",
       "      <td>Cup</td>\n",
       "      <td>USA</td>\n",
       "      <td>2.25</td>\n",
       "      <td>NaN</td>\n",
       "    </tr>\n",
       "    <tr>\n",
       "      <th>2577</th>\n",
       "      <td>Wei Lih</td>\n",
       "      <td>GGE Ramen Snack Tomato Flavor</td>\n",
       "      <td>Pack</td>\n",
       "      <td>Taiwan</td>\n",
       "      <td>2.75</td>\n",
       "      <td>NaN</td>\n",
       "    </tr>\n",
       "    <tr>\n",
       "      <th>2576</th>\n",
       "      <td>Ching's Secret</td>\n",
       "      <td>Singapore Curry</td>\n",
       "      <td>Pack</td>\n",
       "      <td>India</td>\n",
       "      <td>3.75</td>\n",
       "      <td>NaN</td>\n",
       "    </tr>\n",
       "  </tbody>\n",
       "</table>\n",
       "</div>"
      ],
      "text/plain": [
       "                   Brand                                            Variety  \\\n",
       "Review #                                                                      \n",
       "2580           New Touch                          T's Restaurant Tantanmen    \n",
       "2579            Just Way  Noodles Spicy Hot Sesame Spicy Hot Sesame Guan...   \n",
       "2578              Nissin                      Cup Noodles Chicken Vegetable   \n",
       "2577             Wei Lih                      GGE Ramen Snack Tomato Flavor   \n",
       "2576      Ching's Secret                                    Singapore Curry   \n",
       "\n",
       "         Style Country Stars Top Ten  \n",
       "Review #                              \n",
       "2580       Cup   Japan  3.75     NaN  \n",
       "2579      Pack  Taiwan     1     NaN  \n",
       "2578       Cup     USA  2.25     NaN  \n",
       "2577      Pack  Taiwan  2.75     NaN  \n",
       "2576      Pack   India  3.75     NaN  "
      ]
     },
     "execution_count": 1,
     "metadata": {},
     "output_type": "execute_result"
    }
   ],
   "source": [
    "# We import the data manipulation and visualization libraries we will use.\n",
    "import numpy as np\n",
    "import pandas as pd\n",
    "import matplotlib.pyplot as plt\n",
    "import seaborn as sns\n",
    "# We use this line of code for cleaner graph displays with matplotlib.\n",
    "%matplotlib inline\n",
    "# I personally like to use the seaborn theme for graphs.\n",
    "sns.set_theme()\n",
    "\n",
    "# We read the .csv file and make it a Data Frame. We glimpse at the head to ensure that it was read correctly.\n",
    "ramen = pd.read_csv('ramen-ratings.csv', index_col=[0])\n",
    "ramen.head()"
   ]
  },
  {
   "cell_type": "code",
   "execution_count": 2,
   "id": "accessible-diesel",
   "metadata": {},
   "outputs": [
    {
     "data": {
      "text/html": [
       "<div>\n",
       "<style scoped>\n",
       "    .dataframe tbody tr th:only-of-type {\n",
       "        vertical-align: middle;\n",
       "    }\n",
       "\n",
       "    .dataframe tbody tr th {\n",
       "        vertical-align: top;\n",
       "    }\n",
       "\n",
       "    .dataframe thead th {\n",
       "        text-align: right;\n",
       "    }\n",
       "</style>\n",
       "<table border=\"1\" class=\"dataframe\">\n",
       "  <thead>\n",
       "    <tr style=\"text-align: right;\">\n",
       "      <th></th>\n",
       "      <th>Brand</th>\n",
       "      <th>Variety</th>\n",
       "      <th>Style</th>\n",
       "      <th>Country</th>\n",
       "      <th>Stars</th>\n",
       "      <th>Top Ten</th>\n",
       "    </tr>\n",
       "    <tr>\n",
       "      <th>Review #</th>\n",
       "      <th></th>\n",
       "      <th></th>\n",
       "      <th></th>\n",
       "      <th></th>\n",
       "      <th></th>\n",
       "      <th></th>\n",
       "    </tr>\n",
       "  </thead>\n",
       "  <tbody>\n",
       "    <tr>\n",
       "      <th>5</th>\n",
       "      <td>Vifon</td>\n",
       "      <td>Hu Tiu Nam Vang [\"Phnom Penh\" style] Asian Sty...</td>\n",
       "      <td>Bowl</td>\n",
       "      <td>Vietnam</td>\n",
       "      <td>3.5</td>\n",
       "      <td>NaN</td>\n",
       "    </tr>\n",
       "    <tr>\n",
       "      <th>4</th>\n",
       "      <td>Wai Wai</td>\n",
       "      <td>Oriental Style Instant Noodles</td>\n",
       "      <td>Pack</td>\n",
       "      <td>Thailand</td>\n",
       "      <td>1</td>\n",
       "      <td>NaN</td>\n",
       "    </tr>\n",
       "    <tr>\n",
       "      <th>3</th>\n",
       "      <td>Wai Wai</td>\n",
       "      <td>Tom Yum Shrimp</td>\n",
       "      <td>Pack</td>\n",
       "      <td>Thailand</td>\n",
       "      <td>2</td>\n",
       "      <td>NaN</td>\n",
       "    </tr>\n",
       "    <tr>\n",
       "      <th>2</th>\n",
       "      <td>Wai Wai</td>\n",
       "      <td>Tom Yum Chili Flavor</td>\n",
       "      <td>Pack</td>\n",
       "      <td>Thailand</td>\n",
       "      <td>2</td>\n",
       "      <td>NaN</td>\n",
       "    </tr>\n",
       "    <tr>\n",
       "      <th>1</th>\n",
       "      <td>Westbrae</td>\n",
       "      <td>Miso Ramen</td>\n",
       "      <td>Pack</td>\n",
       "      <td>USA</td>\n",
       "      <td>0.5</td>\n",
       "      <td>NaN</td>\n",
       "    </tr>\n",
       "  </tbody>\n",
       "</table>\n",
       "</div>"
      ],
      "text/plain": [
       "             Brand                                            Variety Style  \\\n",
       "Review #                                                                      \n",
       "5            Vifon  Hu Tiu Nam Vang [\"Phnom Penh\" style] Asian Sty...  Bowl   \n",
       "4          Wai Wai                     Oriental Style Instant Noodles  Pack   \n",
       "3          Wai Wai                                     Tom Yum Shrimp  Pack   \n",
       "2          Wai Wai                               Tom Yum Chili Flavor  Pack   \n",
       "1         Westbrae                                         Miso Ramen  Pack   \n",
       "\n",
       "           Country Stars Top Ten  \n",
       "Review #                          \n",
       "5          Vietnam   3.5     NaN  \n",
       "4         Thailand     1     NaN  \n",
       "3         Thailand     2     NaN  \n",
       "2         Thailand     2     NaN  \n",
       "1              USA   0.5     NaN  "
      ]
     },
     "execution_count": 2,
     "metadata": {},
     "output_type": "execute_result"
    }
   ],
   "source": [
    "ramen.tail()"
   ]
  },
  {
   "cell_type": "code",
   "execution_count": 3,
   "id": "brief-scheduling",
   "metadata": {},
   "outputs": [
    {
     "data": {
      "text/plain": [
       "(2580, 6)"
      ]
     },
     "execution_count": 3,
     "metadata": {},
     "output_type": "execute_result"
    }
   ],
   "source": [
    "ramen.shape"
   ]
  },
  {
   "cell_type": "markdown",
   "id": "utility-question",
   "metadata": {},
   "source": [
    "The dataset has 2580 observations with 6 columns. Let's get some info and general statistics on the data to see how we can manipulate it."
   ]
  },
  {
   "cell_type": "code",
   "execution_count": 4,
   "id": "infrared-pocket",
   "metadata": {},
   "outputs": [
    {
     "name": "stdout",
     "output_type": "stream",
     "text": [
      "<class 'pandas.core.frame.DataFrame'>\n",
      "Int64Index: 2580 entries, 2580 to 1\n",
      "Data columns (total 6 columns):\n",
      " #   Column   Non-Null Count  Dtype \n",
      "---  ------   --------------  ----- \n",
      " 0   Brand    2580 non-null   object\n",
      " 1   Variety  2580 non-null   object\n",
      " 2   Style    2578 non-null   object\n",
      " 3   Country  2580 non-null   object\n",
      " 4   Stars    2580 non-null   object\n",
      " 5   Top Ten  41 non-null     object\n",
      "dtypes: object(6)\n",
      "memory usage: 141.1+ KB\n"
     ]
    }
   ],
   "source": [
    "# We get a description of the data in each column.\n",
    "ramen.info()"
   ]
  },
  {
   "cell_type": "code",
   "execution_count": 5,
   "id": "broken-probe",
   "metadata": {},
   "outputs": [
    {
     "data": {
      "text/plain": [
       "Brand         0\n",
       "Variety       0\n",
       "Style         2\n",
       "Country       0\n",
       "Stars         0\n",
       "Top Ten    2539\n",
       "dtype: int64"
      ]
     },
     "execution_count": 5,
     "metadata": {},
     "output_type": "execute_result"
    }
   ],
   "source": [
    "# Let's see how much missing data is in the dataset.\n",
    "ramen.isnull().sum()"
   ]
  },
  {
   "cell_type": "code",
   "execution_count": 6,
   "id": "authentic-hanging",
   "metadata": {},
   "outputs": [
    {
     "data": {
      "text/html": [
       "<div>\n",
       "<style scoped>\n",
       "    .dataframe tbody tr th:only-of-type {\n",
       "        vertical-align: middle;\n",
       "    }\n",
       "\n",
       "    .dataframe tbody tr th {\n",
       "        vertical-align: top;\n",
       "    }\n",
       "\n",
       "    .dataframe thead th {\n",
       "        text-align: right;\n",
       "    }\n",
       "</style>\n",
       "<table border=\"1\" class=\"dataframe\">\n",
       "  <thead>\n",
       "    <tr style=\"text-align: right;\">\n",
       "      <th></th>\n",
       "      <th>Brand</th>\n",
       "      <th>Variety</th>\n",
       "      <th>Style</th>\n",
       "      <th>Country</th>\n",
       "      <th>Stars</th>\n",
       "      <th>Top Ten</th>\n",
       "    </tr>\n",
       "    <tr>\n",
       "      <th>Review #</th>\n",
       "      <th></th>\n",
       "      <th></th>\n",
       "      <th></th>\n",
       "      <th></th>\n",
       "      <th></th>\n",
       "      <th></th>\n",
       "    </tr>\n",
       "  </thead>\n",
       "  <tbody>\n",
       "    <tr>\n",
       "      <th>2580</th>\n",
       "      <td>New Touch</td>\n",
       "      <td>T's Restaurant Tantanmen</td>\n",
       "      <td>Cup</td>\n",
       "      <td>Japan</td>\n",
       "      <td>3.75</td>\n",
       "      <td>0</td>\n",
       "    </tr>\n",
       "    <tr>\n",
       "      <th>2579</th>\n",
       "      <td>Just Way</td>\n",
       "      <td>Noodles Spicy Hot Sesame Spicy Hot Sesame Guan...</td>\n",
       "      <td>Pack</td>\n",
       "      <td>Taiwan</td>\n",
       "      <td>1</td>\n",
       "      <td>0</td>\n",
       "    </tr>\n",
       "    <tr>\n",
       "      <th>2578</th>\n",
       "      <td>Nissin</td>\n",
       "      <td>Cup Noodles Chicken Vegetable</td>\n",
       "      <td>Cup</td>\n",
       "      <td>USA</td>\n",
       "      <td>2.25</td>\n",
       "      <td>0</td>\n",
       "    </tr>\n",
       "    <tr>\n",
       "      <th>2577</th>\n",
       "      <td>Wei Lih</td>\n",
       "      <td>GGE Ramen Snack Tomato Flavor</td>\n",
       "      <td>Pack</td>\n",
       "      <td>Taiwan</td>\n",
       "      <td>2.75</td>\n",
       "      <td>0</td>\n",
       "    </tr>\n",
       "    <tr>\n",
       "      <th>2576</th>\n",
       "      <td>Ching's Secret</td>\n",
       "      <td>Singapore Curry</td>\n",
       "      <td>Pack</td>\n",
       "      <td>India</td>\n",
       "      <td>3.75</td>\n",
       "      <td>0</td>\n",
       "    </tr>\n",
       "  </tbody>\n",
       "</table>\n",
       "</div>"
      ],
      "text/plain": [
       "                   Brand                                            Variety  \\\n",
       "Review #                                                                      \n",
       "2580           New Touch                          T's Restaurant Tantanmen    \n",
       "2579            Just Way  Noodles Spicy Hot Sesame Spicy Hot Sesame Guan...   \n",
       "2578              Nissin                      Cup Noodles Chicken Vegetable   \n",
       "2577             Wei Lih                      GGE Ramen Snack Tomato Flavor   \n",
       "2576      Ching's Secret                                    Singapore Curry   \n",
       "\n",
       "         Style Country Stars Top Ten  \n",
       "Review #                              \n",
       "2580       Cup   Japan  3.75       0  \n",
       "2579      Pack  Taiwan     1       0  \n",
       "2578       Cup     USA  2.25       0  \n",
       "2577      Pack  Taiwan  2.75       0  \n",
       "2576      Pack   India  3.75       0  "
      ]
     },
     "execution_count": 6,
     "metadata": {},
     "output_type": "execute_result"
    }
   ],
   "source": [
    "# Let's change the Top Ten missing data with 0.\n",
    "nafill = {'Top Ten': 0}\n",
    "ramen = ramen.fillna(value=nafill)\n",
    "ramen.head()"
   ]
  },
  {
   "cell_type": "code",
   "execution_count": 7,
   "id": "minor-status",
   "metadata": {},
   "outputs": [
    {
     "data": {
      "text/html": [
       "<div>\n",
       "<style scoped>\n",
       "    .dataframe tbody tr th:only-of-type {\n",
       "        vertical-align: middle;\n",
       "    }\n",
       "\n",
       "    .dataframe tbody tr th {\n",
       "        vertical-align: top;\n",
       "    }\n",
       "\n",
       "    .dataframe thead th {\n",
       "        text-align: right;\n",
       "    }\n",
       "</style>\n",
       "<table border=\"1\" class=\"dataframe\">\n",
       "  <thead>\n",
       "    <tr style=\"text-align: right;\">\n",
       "      <th></th>\n",
       "      <th>Brand</th>\n",
       "      <th>Variety</th>\n",
       "      <th>Style</th>\n",
       "      <th>Country</th>\n",
       "      <th>Stars</th>\n",
       "      <th>Top Ten</th>\n",
       "    </tr>\n",
       "    <tr>\n",
       "      <th>Review #</th>\n",
       "      <th></th>\n",
       "      <th></th>\n",
       "      <th></th>\n",
       "      <th></th>\n",
       "      <th></th>\n",
       "      <th></th>\n",
       "    </tr>\n",
       "  </thead>\n",
       "  <tbody>\n",
       "    <tr>\n",
       "      <th>2580</th>\n",
       "      <td>New Touch</td>\n",
       "      <td>T's Restaurant Tantanmen</td>\n",
       "      <td>Cup</td>\n",
       "      <td>Japan</td>\n",
       "      <td>3.75</td>\n",
       "      <td>0</td>\n",
       "    </tr>\n",
       "    <tr>\n",
       "      <th>2579</th>\n",
       "      <td>Just Way</td>\n",
       "      <td>Noodles Spicy Hot Sesame Spicy Hot Sesame Guan...</td>\n",
       "      <td>Pack</td>\n",
       "      <td>Taiwan</td>\n",
       "      <td>1</td>\n",
       "      <td>0</td>\n",
       "    </tr>\n",
       "    <tr>\n",
       "      <th>2578</th>\n",
       "      <td>Nissin</td>\n",
       "      <td>Cup Noodles Chicken Vegetable</td>\n",
       "      <td>Cup</td>\n",
       "      <td>USA</td>\n",
       "      <td>2.25</td>\n",
       "      <td>0</td>\n",
       "    </tr>\n",
       "    <tr>\n",
       "      <th>2577</th>\n",
       "      <td>Wei Lih</td>\n",
       "      <td>GGE Ramen Snack Tomato Flavor</td>\n",
       "      <td>Pack</td>\n",
       "      <td>Taiwan</td>\n",
       "      <td>2.75</td>\n",
       "      <td>0</td>\n",
       "    </tr>\n",
       "    <tr>\n",
       "      <th>2576</th>\n",
       "      <td>Ching's Secret</td>\n",
       "      <td>Singapore Curry</td>\n",
       "      <td>Pack</td>\n",
       "      <td>India</td>\n",
       "      <td>3.75</td>\n",
       "      <td>0</td>\n",
       "    </tr>\n",
       "    <tr>\n",
       "      <th>...</th>\n",
       "      <td>...</td>\n",
       "      <td>...</td>\n",
       "      <td>...</td>\n",
       "      <td>...</td>\n",
       "      <td>...</td>\n",
       "      <td>...</td>\n",
       "    </tr>\n",
       "    <tr>\n",
       "      <th>5</th>\n",
       "      <td>Vifon</td>\n",
       "      <td>Hu Tiu Nam Vang [\"Phnom Penh\" style] Asian Sty...</td>\n",
       "      <td>Bowl</td>\n",
       "      <td>Vietnam</td>\n",
       "      <td>3.5</td>\n",
       "      <td>0</td>\n",
       "    </tr>\n",
       "    <tr>\n",
       "      <th>4</th>\n",
       "      <td>Wai Wai</td>\n",
       "      <td>Oriental Style Instant Noodles</td>\n",
       "      <td>Pack</td>\n",
       "      <td>Thailand</td>\n",
       "      <td>1</td>\n",
       "      <td>0</td>\n",
       "    </tr>\n",
       "    <tr>\n",
       "      <th>3</th>\n",
       "      <td>Wai Wai</td>\n",
       "      <td>Tom Yum Shrimp</td>\n",
       "      <td>Pack</td>\n",
       "      <td>Thailand</td>\n",
       "      <td>2</td>\n",
       "      <td>0</td>\n",
       "    </tr>\n",
       "    <tr>\n",
       "      <th>2</th>\n",
       "      <td>Wai Wai</td>\n",
       "      <td>Tom Yum Chili Flavor</td>\n",
       "      <td>Pack</td>\n",
       "      <td>Thailand</td>\n",
       "      <td>2</td>\n",
       "      <td>0</td>\n",
       "    </tr>\n",
       "    <tr>\n",
       "      <th>1</th>\n",
       "      <td>Westbrae</td>\n",
       "      <td>Miso Ramen</td>\n",
       "      <td>Pack</td>\n",
       "      <td>USA</td>\n",
       "      <td>0.5</td>\n",
       "      <td>0</td>\n",
       "    </tr>\n",
       "  </tbody>\n",
       "</table>\n",
       "<p>2578 rows × 6 columns</p>\n",
       "</div>"
      ],
      "text/plain": [
       "                   Brand                                            Variety  \\\n",
       "Review #                                                                      \n",
       "2580           New Touch                          T's Restaurant Tantanmen    \n",
       "2579            Just Way  Noodles Spicy Hot Sesame Spicy Hot Sesame Guan...   \n",
       "2578              Nissin                      Cup Noodles Chicken Vegetable   \n",
       "2577             Wei Lih                      GGE Ramen Snack Tomato Flavor   \n",
       "2576      Ching's Secret                                    Singapore Curry   \n",
       "...                  ...                                                ...   \n",
       "5                  Vifon  Hu Tiu Nam Vang [\"Phnom Penh\" style] Asian Sty...   \n",
       "4                Wai Wai                     Oriental Style Instant Noodles   \n",
       "3                Wai Wai                                     Tom Yum Shrimp   \n",
       "2                Wai Wai                               Tom Yum Chili Flavor   \n",
       "1               Westbrae                                         Miso Ramen   \n",
       "\n",
       "         Style   Country Stars Top Ten  \n",
       "Review #                                \n",
       "2580       Cup     Japan  3.75       0  \n",
       "2579      Pack    Taiwan     1       0  \n",
       "2578       Cup       USA  2.25       0  \n",
       "2577      Pack    Taiwan  2.75       0  \n",
       "2576      Pack     India  3.75       0  \n",
       "...        ...       ...   ...     ...  \n",
       "5         Bowl   Vietnam   3.5       0  \n",
       "4         Pack  Thailand     1       0  \n",
       "3         Pack  Thailand     2       0  \n",
       "2         Pack  Thailand     2       0  \n",
       "1         Pack       USA   0.5       0  \n",
       "\n",
       "[2578 rows x 6 columns]"
      ]
     },
     "execution_count": 7,
     "metadata": {},
     "output_type": "execute_result"
    }
   ],
   "source": [
    "# Finally, we drop the two actual missing values.\n",
    "ramen.dropna(how='any')"
   ]
  },
  {
   "cell_type": "code",
   "execution_count": 8,
   "id": "bacterial-labor",
   "metadata": {},
   "outputs": [
    {
     "data": {
      "text/plain": [
       "Brand      3\n",
       "Variety    3\n",
       "Style      3\n",
       "Country    3\n",
       "Stars      3\n",
       "Top Ten    3\n",
       "dtype: int64"
      ]
     },
     "execution_count": 8,
     "metadata": {},
     "output_type": "execute_result"
    }
   ],
   "source": [
    "# There are three unrated ramen that don't allow the column to become numeric. Let's drop them.\n",
    "ramen[ramen['Stars'] == 'Unrated'].count()"
   ]
  },
  {
   "cell_type": "code",
   "execution_count": 9,
   "id": "authorized-boxing",
   "metadata": {},
   "outputs": [],
   "source": [
    "# We filter out the Unrated reviews.\n",
    "ramen = ramen[ramen['Stars'] != 'Unrated']"
   ]
  },
  {
   "cell_type": "code",
   "execution_count": 10,
   "id": "consecutive-emerald",
   "metadata": {},
   "outputs": [
    {
     "data": {
      "text/html": [
       "<div>\n",
       "<style scoped>\n",
       "    .dataframe tbody tr th:only-of-type {\n",
       "        vertical-align: middle;\n",
       "    }\n",
       "\n",
       "    .dataframe tbody tr th {\n",
       "        vertical-align: top;\n",
       "    }\n",
       "\n",
       "    .dataframe thead th {\n",
       "        text-align: right;\n",
       "    }\n",
       "</style>\n",
       "<table border=\"1\" class=\"dataframe\">\n",
       "  <thead>\n",
       "    <tr style=\"text-align: right;\">\n",
       "      <th></th>\n",
       "      <th>Stars</th>\n",
       "    </tr>\n",
       "  </thead>\n",
       "  <tbody>\n",
       "    <tr>\n",
       "      <th>count</th>\n",
       "      <td>2577.000000</td>\n",
       "    </tr>\n",
       "    <tr>\n",
       "      <th>mean</th>\n",
       "      <td>3.654676</td>\n",
       "    </tr>\n",
       "    <tr>\n",
       "      <th>std</th>\n",
       "      <td>1.015331</td>\n",
       "    </tr>\n",
       "    <tr>\n",
       "      <th>min</th>\n",
       "      <td>0.000000</td>\n",
       "    </tr>\n",
       "    <tr>\n",
       "      <th>25%</th>\n",
       "      <td>3.250000</td>\n",
       "    </tr>\n",
       "    <tr>\n",
       "      <th>50%</th>\n",
       "      <td>3.750000</td>\n",
       "    </tr>\n",
       "    <tr>\n",
       "      <th>75%</th>\n",
       "      <td>4.250000</td>\n",
       "    </tr>\n",
       "    <tr>\n",
       "      <th>max</th>\n",
       "      <td>5.000000</td>\n",
       "    </tr>\n",
       "  </tbody>\n",
       "</table>\n",
       "</div>"
      ],
      "text/plain": [
       "             Stars\n",
       "count  2577.000000\n",
       "mean      3.654676\n",
       "std       1.015331\n",
       "min       0.000000\n",
       "25%       3.250000\n",
       "50%       3.750000\n",
       "75%       4.250000\n",
       "max       5.000000"
      ]
     },
     "execution_count": 10,
     "metadata": {},
     "output_type": "execute_result"
    }
   ],
   "source": [
    "#The stars, a numeric value of rating, is not set as numeric. Let's make it numeric so we can work with it.\n",
    "ramen['Stars'] = pd.to_numeric(ramen['Stars'])\n",
    "# We get a statistical summary of the dataset. Since stars is the only numeric column, we only get the summary of that column.\n",
    "ramen.describe()"
   ]
  },
  {
   "cell_type": "code",
   "execution_count": 11,
   "id": "general-marine",
   "metadata": {},
   "outputs": [
    {
     "data": {
      "image/png": "[encoded data removed]",
      "text/plain": [
       "<Figure size 432x288 with 1 Axes>"
      ]
     },
     "metadata": {},
     "output_type": "display_data"
    }
   ],
   "source": [
    "ramen.Stars.hist(bins=10, color = 'cyan')\n",
    "plt.title('Distribution of ramen ratings')\n",
    "plt.show()\n",
    "# Most ramen products have between 3.5 and 4.0 stars."
   ]
  },
  {
   "cell_type": "code",
   "execution_count": 12,
   "id": "according-country",
   "metadata": {},
   "outputs": [
    {
     "data": {
      "image/png": "[encoded data removed]",
      "text/plain": [
       "<Figure size 432x288 with 1 Axes>"
      ]
     },
     "metadata": {},
     "output_type": "display_data"
    }
   ],
   "source": [
    "# Let's visualize the quantiles of stars in a boxplot.\n",
    "ramen.boxplot(column='Stars')\n",
    "plt.title('Stars Boxplot')\n",
    "plt.show()"
   ]
  },
  {
   "cell_type": "markdown",
   "id": "comparative-skirt",
   "metadata": {},
   "source": [
    "### 1. What is the most popular ramen brand? What are the top 10?\n",
    "\n",
    "For this we will group reviews by brand, count by appearance and sort in descending order."
   ]
  },
  {
   "cell_type": "code",
   "execution_count": 13,
   "id": "atlantic-angel",
   "metadata": {},
   "outputs": [
    {
     "data": {
      "text/html": [
       "<div>\n",
       "<style scoped>\n",
       "    .dataframe tbody tr th:only-of-type {\n",
       "        vertical-align: middle;\n",
       "    }\n",
       "\n",
       "    .dataframe tbody tr th {\n",
       "        vertical-align: top;\n",
       "    }\n",
       "\n",
       "    .dataframe thead th {\n",
       "        text-align: right;\n",
       "    }\n",
       "</style>\n",
       "<table border=\"1\" class=\"dataframe\">\n",
       "  <thead>\n",
       "    <tr style=\"text-align: right;\">\n",
       "      <th></th>\n",
       "      <th>Variety</th>\n",
       "    </tr>\n",
       "    <tr>\n",
       "      <th>Brand</th>\n",
       "      <th></th>\n",
       "    </tr>\n",
       "  </thead>\n",
       "  <tbody>\n",
       "    <tr>\n",
       "      <th>Nissin</th>\n",
       "      <td>381</td>\n",
       "    </tr>\n",
       "    <tr>\n",
       "      <th>Nongshim</th>\n",
       "      <td>98</td>\n",
       "    </tr>\n",
       "    <tr>\n",
       "      <th>Maruchan</th>\n",
       "      <td>76</td>\n",
       "    </tr>\n",
       "    <tr>\n",
       "      <th>Mama</th>\n",
       "      <td>71</td>\n",
       "    </tr>\n",
       "    <tr>\n",
       "      <th>Paldo</th>\n",
       "      <td>66</td>\n",
       "    </tr>\n",
       "    <tr>\n",
       "      <th>Myojo</th>\n",
       "      <td>63</td>\n",
       "    </tr>\n",
       "    <tr>\n",
       "      <th>Indomie</th>\n",
       "      <td>53</td>\n",
       "    </tr>\n",
       "    <tr>\n",
       "      <th>Samyang Foods</th>\n",
       "      <td>51</td>\n",
       "    </tr>\n",
       "    <tr>\n",
       "      <th>Ottogi</th>\n",
       "      <td>45</td>\n",
       "    </tr>\n",
       "    <tr>\n",
       "      <th>Vina Acecook</th>\n",
       "      <td>34</td>\n",
       "    </tr>\n",
       "  </tbody>\n",
       "</table>\n",
       "</div>"
      ],
      "text/plain": [
       "               Variety\n",
       "Brand                 \n",
       "Nissin             381\n",
       "Nongshim            98\n",
       "Maruchan            76\n",
       "Mama                71\n",
       "Paldo               66\n",
       "Myojo               63\n",
       "Indomie             53\n",
       "Samyang Foods       51\n",
       "Ottogi              45\n",
       "Vina Acecook        34"
      ]
     },
     "execution_count": 13,
     "metadata": {},
     "output_type": "execute_result"
    }
   ],
   "source": [
    "top_brands = ramen.groupby('Brand').count()\n",
    "top_brands = top_brands.sort_values(by='Variety', ascending = False)[['Variety']]\n",
    "top_brands = top_brands.head(10)\n",
    "top_brands"
   ]
  },
  {
   "cell_type": "code",
   "execution_count": 14,
   "id": "capital-holiday",
   "metadata": {},
   "outputs": [
    {
     "data": {
      "image/png": "[encoded data removed]",
      "text/plain": [
       "<Figure size 432x288 with 1 Axes>"
      ]
     },
     "metadata": {},
     "output_type": "display_data"
    }
   ],
   "source": [
    "# Nissin is the most popular ramen brand. Let's visualize this with a bar graph.\n",
    "top_brands.plot(y='Variety',kind='bar', color='orange')\n",
    "plt.title('Number of ramen reviews by brand')\n",
    "plt.xlabel('Brand')\n",
    "plt.ylabel('# of Reviews')\n",
    "plt.show()"
   ]
  },
  {
   "cell_type": "markdown",
   "id": "written-symposium",
   "metadata": {},
   "source": [
    "**Nissin** is, by a landslide, the most popular ramen brand in the world. It is followed by Nongshim and Maruchan."
   ]
  },
  {
   "cell_type": "markdown",
   "id": "logical-madness",
   "metadata": {},
   "source": [
    "### 2 and 3. What's the country with the highest rated ramen? Average rating by country.\n",
    "\n",
    "We will group by country, then get the mean for each one."
   ]
  },
  {
   "cell_type": "code",
   "execution_count": 15,
   "id": "arranged-knitting",
   "metadata": {},
   "outputs": [
    {
     "data": {
      "text/html": [
       "<div>\n",
       "<style scoped>\n",
       "    .dataframe tbody tr th:only-of-type {\n",
       "        vertical-align: middle;\n",
       "    }\n",
       "\n",
       "    .dataframe tbody tr th {\n",
       "        vertical-align: top;\n",
       "    }\n",
       "\n",
       "    .dataframe thead th {\n",
       "        text-align: right;\n",
       "    }\n",
       "</style>\n",
       "<table border=\"1\" class=\"dataframe\">\n",
       "  <thead>\n",
       "    <tr style=\"text-align: right;\">\n",
       "      <th></th>\n",
       "      <th>Stars</th>\n",
       "    </tr>\n",
       "    <tr>\n",
       "      <th>Country</th>\n",
       "      <th></th>\n",
       "    </tr>\n",
       "  </thead>\n",
       "  <tbody>\n",
       "    <tr>\n",
       "      <th>Brazil</th>\n",
       "      <td>4.350000</td>\n",
       "    </tr>\n",
       "    <tr>\n",
       "      <th>Sarawak</th>\n",
       "      <td>4.333333</td>\n",
       "    </tr>\n",
       "    <tr>\n",
       "      <th>Cambodia</th>\n",
       "      <td>4.200000</td>\n",
       "    </tr>\n",
       "    <tr>\n",
       "      <th>Malaysia</th>\n",
       "      <td>4.154194</td>\n",
       "    </tr>\n",
       "    <tr>\n",
       "      <th>Singapore</th>\n",
       "      <td>4.126147</td>\n",
       "    </tr>\n",
       "  </tbody>\n",
       "</table>\n",
       "</div>"
      ],
      "text/plain": [
       "              Stars\n",
       "Country            \n",
       "Brazil     4.350000\n",
       "Sarawak    4.333333\n",
       "Cambodia   4.200000\n",
       "Malaysia   4.154194\n",
       "Singapore  4.126147"
      ]
     },
     "execution_count": 15,
     "metadata": {},
     "output_type": "execute_result"
    }
   ],
   "source": [
    "top_country = ramen.groupby('Country').mean()[['Stars']].sort_values(by='Stars', ascending = False)\n",
    "top_country.head()"
   ]
  },
  {
   "cell_type": "code",
   "execution_count": 16,
   "id": "willing-yacht",
   "metadata": {},
   "outputs": [
    {
     "data": {
      "image/png": "[encoded data removed]",
      "text/plain": [
       "<Figure size 432x288 with 1 Axes>"
      ]
     },
     "metadata": {},
     "output_type": "display_data"
    }
   ],
   "source": [
    "top_country.head(20).plot(y='Stars', kind = 'bar')\n",
    "plt.title('Average ramen rating by country')\n",
    "plt.xlabel('Country')\n",
    "plt.ylabel('Average stars')\n",
    "plt.show()"
   ]
  },
  {
   "cell_type": "markdown",
   "id": "silent-allergy",
   "metadata": {},
   "source": [
    "Unexpectedly, **Brazil** is the country with the highest rated ramen in the entire world, with an average of 4.35 stars in ramen reviews. Let's see where we can find the worst rated ramen in the world."
   ]
  },
  {
   "cell_type": "code",
   "execution_count": 17,
   "id": "referenced-marks",
   "metadata": {},
   "outputs": [
    {
     "data": {
      "text/html": [
       "<div>\n",
       "<style scoped>\n",
       "    .dataframe tbody tr th:only-of-type {\n",
       "        vertical-align: middle;\n",
       "    }\n",
       "\n",
       "    .dataframe tbody tr th {\n",
       "        vertical-align: top;\n",
       "    }\n",
       "\n",
       "    .dataframe thead th {\n",
       "        text-align: right;\n",
       "    }\n",
       "</style>\n",
       "<table border=\"1\" class=\"dataframe\">\n",
       "  <thead>\n",
       "    <tr style=\"text-align: right;\">\n",
       "      <th></th>\n",
       "      <th>Stars</th>\n",
       "    </tr>\n",
       "    <tr>\n",
       "      <th>Country</th>\n",
       "      <th></th>\n",
       "    </tr>\n",
       "  </thead>\n",
       "  <tbody>\n",
       "    <tr>\n",
       "      <th>Nigeria</th>\n",
       "      <td>1.5</td>\n",
       "    </tr>\n",
       "  </tbody>\n",
       "</table>\n",
       "</div>"
      ],
      "text/plain": [
       "         Stars\n",
       "Country       \n",
       "Nigeria    1.5"
      ]
     },
     "execution_count": 17,
     "metadata": {},
     "output_type": "execute_result"
    }
   ],
   "source": [
    "top_country.iloc[[-1]]"
   ]
  },
  {
   "cell_type": "markdown",
   "id": "critical-dublin",
   "metadata": {},
   "source": [
    "The country with the average worst rating in the world is **Nigeria**, which has an average of 1.5 stars."
   ]
  },
  {
   "cell_type": "markdown",
   "id": "improving-belize",
   "metadata": {},
   "source": [
    "### 4. What ramen style is the most popular?"
   ]
  },
  {
   "cell_type": "code",
   "execution_count": 18,
   "id": "processed-preference",
   "metadata": {},
   "outputs": [
    {
     "data": {
      "text/html": [
       "<div>\n",
       "<style scoped>\n",
       "    .dataframe tbody tr th:only-of-type {\n",
       "        vertical-align: middle;\n",
       "    }\n",
       "\n",
       "    .dataframe tbody tr th {\n",
       "        vertical-align: top;\n",
       "    }\n",
       "\n",
       "    .dataframe thead th {\n",
       "        text-align: right;\n",
       "    }\n",
       "</style>\n",
       "<table border=\"1\" class=\"dataframe\">\n",
       "  <thead>\n",
       "    <tr style=\"text-align: right;\">\n",
       "      <th></th>\n",
       "      <th>Count</th>\n",
       "    </tr>\n",
       "    <tr>\n",
       "      <th>Style</th>\n",
       "      <th></th>\n",
       "    </tr>\n",
       "  </thead>\n",
       "  <tbody>\n",
       "    <tr>\n",
       "      <th>Pack</th>\n",
       "      <td>5654.300</td>\n",
       "    </tr>\n",
       "    <tr>\n",
       "      <th>Bowl</th>\n",
       "      <td>1765.600</td>\n",
       "    </tr>\n",
       "    <tr>\n",
       "      <th>Cup</th>\n",
       "      <td>1574.325</td>\n",
       "    </tr>\n",
       "    <tr>\n",
       "      <th>Tray</th>\n",
       "      <td>382.875</td>\n",
       "    </tr>\n",
       "    <tr>\n",
       "      <th>Box</th>\n",
       "      <td>25.750</td>\n",
       "    </tr>\n",
       "    <tr>\n",
       "      <th>Bar</th>\n",
       "      <td>5.000</td>\n",
       "    </tr>\n",
       "    <tr>\n",
       "      <th>Can</th>\n",
       "      <td>3.500</td>\n",
       "    </tr>\n",
       "  </tbody>\n",
       "</table>\n",
       "</div>"
      ],
      "text/plain": [
       "          Count\n",
       "Style          \n",
       "Pack   5654.300\n",
       "Bowl   1765.600\n",
       "Cup    1574.325\n",
       "Tray    382.875\n",
       "Box      25.750\n",
       "Bar       5.000\n",
       "Can       3.500"
      ]
     },
     "execution_count": 18,
     "metadata": {},
     "output_type": "execute_result"
    }
   ],
   "source": [
    "by_style = ramen.groupby('Style').sum().sort_values(by='Stars', ascending = False)\n",
    "by_style = by_style.rename(columns={'Stars':'Count'})\n",
    "by_style"
   ]
  },
  {
   "cell_type": "code",
   "execution_count": 19,
   "id": "exposed-migration",
   "metadata": {},
   "outputs": [
    {
     "data": {
      "image/png": "[encoded data removed]",
      "text/plain": [
       "<Figure size 432x288 with 1 Axes>"
      ]
     },
     "metadata": {},
     "output_type": "display_data"
    }
   ],
   "source": [
    "by_style.plot(y='Count', kind='bar', color='green')\n",
    "plt.title('Ramen Styles by Popularity')\n",
    "plt.ylabel('Times Reviewed')\n",
    "plt.show()"
   ]
  },
  {
   "cell_type": "markdown",
   "id": "latest-intro",
   "metadata": {},
   "source": [
    "The most popular ramen style is **Pack**, followed by **Bowl**."
   ]
  },
  {
   "cell_type": "markdown",
   "id": "electoral-builder",
   "metadata": {},
   "source": [
    "### 5. What ramen style is the highest rated?"
   ]
  },
  {
   "cell_type": "code",
   "execution_count": 20,
   "id": "sporting-citizen",
   "metadata": {},
   "outputs": [
    {
     "data": {
      "text/html": [
       "<div>\n",
       "<style scoped>\n",
       "    .dataframe tbody tr th:only-of-type {\n",
       "        vertical-align: middle;\n",
       "    }\n",
       "\n",
       "    .dataframe tbody tr th {\n",
       "        vertical-align: top;\n",
       "    }\n",
       "\n",
       "    .dataframe thead th {\n",
       "        text-align: right;\n",
       "    }\n",
       "</style>\n",
       "<table border=\"1\" class=\"dataframe\">\n",
       "  <thead>\n",
       "    <tr style=\"text-align: right;\">\n",
       "      <th></th>\n",
       "      <th>Stars</th>\n",
       "    </tr>\n",
       "    <tr>\n",
       "      <th>Style</th>\n",
       "      <th></th>\n",
       "    </tr>\n",
       "  </thead>\n",
       "  <tbody>\n",
       "    <tr>\n",
       "      <th>Bar</th>\n",
       "      <td>5.000000</td>\n",
       "    </tr>\n",
       "    <tr>\n",
       "      <th>Box</th>\n",
       "      <td>4.291667</td>\n",
       "    </tr>\n",
       "    <tr>\n",
       "      <th>Pack</th>\n",
       "      <td>3.700458</td>\n",
       "    </tr>\n",
       "    <tr>\n",
       "      <th>Bowl</th>\n",
       "      <td>3.670686</td>\n",
       "    </tr>\n",
       "    <tr>\n",
       "      <th>Tray</th>\n",
       "      <td>3.545139</td>\n",
       "    </tr>\n",
       "    <tr>\n",
       "      <th>Can</th>\n",
       "      <td>3.500000</td>\n",
       "    </tr>\n",
       "    <tr>\n",
       "      <th>Cup</th>\n",
       "      <td>3.498500</td>\n",
       "    </tr>\n",
       "  </tbody>\n",
       "</table>\n",
       "</div>"
      ],
      "text/plain": [
       "          Stars\n",
       "Style          \n",
       "Bar    5.000000\n",
       "Box    4.291667\n",
       "Pack   3.700458\n",
       "Bowl   3.670686\n",
       "Tray   3.545139\n",
       "Can    3.500000\n",
       "Cup    3.498500"
      ]
     },
     "execution_count": 20,
     "metadata": {},
     "output_type": "execute_result"
    }
   ],
   "source": [
    "by_style_rating = ramen.groupby('Style').mean().sort_values(by='Stars', ascending = False)\n",
    "by_style_rating "
   ]
  },
  {
   "cell_type": "code",
   "execution_count": 21,
   "id": "fitted-sheriff",
   "metadata": {},
   "outputs": [
    {
     "data": {
      "text/html": [
       "<div>\n",
       "<style scoped>\n",
       "    .dataframe tbody tr th:only-of-type {\n",
       "        vertical-align: middle;\n",
       "    }\n",
       "\n",
       "    .dataframe tbody tr th {\n",
       "        vertical-align: top;\n",
       "    }\n",
       "\n",
       "    .dataframe thead th {\n",
       "        text-align: right;\n",
       "    }\n",
       "</style>\n",
       "<table border=\"1\" class=\"dataframe\">\n",
       "  <thead>\n",
       "    <tr style=\"text-align: right;\">\n",
       "      <th></th>\n",
       "      <th>Stars</th>\n",
       "    </tr>\n",
       "    <tr>\n",
       "      <th>Style</th>\n",
       "      <th></th>\n",
       "    </tr>\n",
       "  </thead>\n",
       "  <tbody>\n",
       "    <tr>\n",
       "      <th>Pack</th>\n",
       "      <td>3.700458</td>\n",
       "    </tr>\n",
       "    <tr>\n",
       "      <th>Bowl</th>\n",
       "      <td>3.670686</td>\n",
       "    </tr>\n",
       "    <tr>\n",
       "      <th>Tray</th>\n",
       "      <td>3.545139</td>\n",
       "    </tr>\n",
       "    <tr>\n",
       "      <th>Cup</th>\n",
       "      <td>3.498500</td>\n",
       "    </tr>\n",
       "  </tbody>\n",
       "</table>\n",
       "</div>"
      ],
      "text/plain": [
       "          Stars\n",
       "Style          \n",
       "Pack   3.700458\n",
       "Bowl   3.670686\n",
       "Tray   3.545139\n",
       "Cup    3.498500"
      ]
     },
     "execution_count": 21,
     "metadata": {},
     "output_type": "execute_result"
    }
   ],
   "source": [
    "# The Bar, Box and Can presentations have very few reviews. It would be better to leave them out of the comparison.\n",
    "by_style_rating = by_style_rating.drop(['Bar','Box','Can'])\n",
    "by_style_rating"
   ]
  },
  {
   "cell_type": "code",
   "execution_count": 22,
   "id": "pursuant-assistant",
   "metadata": {},
   "outputs": [
    {
     "data": {
      "image/png": "[encoded data removed]",
      "text/plain": [
       "<Figure size 432x288 with 1 Axes>"
      ]
     },
     "metadata": {},
     "output_type": "display_data"
    }
   ],
   "source": [
    "by_style_rating.plot(y='Stars',kind='bar', color='purple')\n",
    "plt.title('Ramen Styles by Rating')\n",
    "plt.ylabel('Stars')\n",
    "plt.show()"
   ]
  },
  {
   "cell_type": "markdown",
   "id": "inside-arthur",
   "metadata": {},
   "source": [
    "The average ratings for the different styles of ramen are very similar, but even if the variation is small, **Pack** ramen is the highest rated, followed by **Bowl** ramen. It seems like the fact that there are more products of these styles does not hinder their average score."
   ]
  },
  {
   "cell_type": "markdown",
   "id": "cooperative-region",
   "metadata": {},
   "source": [
    "### 6. What is the highest rated style of ramen in Japan?"
   ]
  },
  {
   "cell_type": "code",
   "execution_count": 23,
   "id": "respective-chrome",
   "metadata": {},
   "outputs": [
    {
     "data": {
      "text/html": [
       "<div>\n",
       "<style scoped>\n",
       "    .dataframe tbody tr th:only-of-type {\n",
       "        vertical-align: middle;\n",
       "    }\n",
       "\n",
       "    .dataframe tbody tr th {\n",
       "        vertical-align: top;\n",
       "    }\n",
       "\n",
       "    .dataframe thead th {\n",
       "        text-align: right;\n",
       "    }\n",
       "</style>\n",
       "<table border=\"1\" class=\"dataframe\">\n",
       "  <thead>\n",
       "    <tr style=\"text-align: right;\">\n",
       "      <th></th>\n",
       "      <th>Brand</th>\n",
       "      <th>Variety</th>\n",
       "      <th>Style</th>\n",
       "      <th>Country</th>\n",
       "      <th>Stars</th>\n",
       "      <th>Top Ten</th>\n",
       "    </tr>\n",
       "    <tr>\n",
       "      <th>Review #</th>\n",
       "      <th></th>\n",
       "      <th></th>\n",
       "      <th></th>\n",
       "      <th></th>\n",
       "      <th></th>\n",
       "      <th></th>\n",
       "    </tr>\n",
       "  </thead>\n",
       "  <tbody>\n",
       "    <tr>\n",
       "      <th>2580</th>\n",
       "      <td>New Touch</td>\n",
       "      <td>T's Restaurant Tantanmen</td>\n",
       "      <td>Cup</td>\n",
       "      <td>Japan</td>\n",
       "      <td>3.75</td>\n",
       "      <td>0</td>\n",
       "    </tr>\n",
       "    <tr>\n",
       "      <th>2574</th>\n",
       "      <td>Acecook</td>\n",
       "      <td>Spice Deli Tantan Men With Cilantro</td>\n",
       "      <td>Cup</td>\n",
       "      <td>Japan</td>\n",
       "      <td>4.00</td>\n",
       "      <td>0</td>\n",
       "    </tr>\n",
       "    <tr>\n",
       "      <th>2573</th>\n",
       "      <td>Ikeda Shoku</td>\n",
       "      <td>Nabeyaki Kitsune Udon</td>\n",
       "      <td>Tray</td>\n",
       "      <td>Japan</td>\n",
       "      <td>3.75</td>\n",
       "      <td>0</td>\n",
       "    </tr>\n",
       "    <tr>\n",
       "      <th>2572</th>\n",
       "      <td>Ripe'n'Dry</td>\n",
       "      <td>Hokkaido Soy Sauce Ramen</td>\n",
       "      <td>Pack</td>\n",
       "      <td>Japan</td>\n",
       "      <td>0.25</td>\n",
       "      <td>0</td>\n",
       "    </tr>\n",
       "    <tr>\n",
       "      <th>2567</th>\n",
       "      <td>Nissin</td>\n",
       "      <td>Deka Buto Kimchi Pork Flavor</td>\n",
       "      <td>Bowl</td>\n",
       "      <td>Japan</td>\n",
       "      <td>4.50</td>\n",
       "      <td>0</td>\n",
       "    </tr>\n",
       "  </tbody>\n",
       "</table>\n",
       "</div>"
      ],
      "text/plain": [
       "                Brand                              Variety Style Country  \\\n",
       "Review #                                                                   \n",
       "2580        New Touch            T's Restaurant Tantanmen    Cup   Japan   \n",
       "2574          Acecook  Spice Deli Tantan Men With Cilantro   Cup   Japan   \n",
       "2573      Ikeda Shoku                Nabeyaki Kitsune Udon  Tray   Japan   \n",
       "2572       Ripe'n'Dry             Hokkaido Soy Sauce Ramen  Pack   Japan   \n",
       "2567           Nissin         Deka Buto Kimchi Pork Flavor  Bowl   Japan   \n",
       "\n",
       "          Stars Top Ten  \n",
       "Review #                 \n",
       "2580       3.75       0  \n",
       "2574       4.00       0  \n",
       "2573       3.75       0  \n",
       "2572       0.25       0  \n",
       "2567       4.50       0  "
      ]
     },
     "execution_count": 23,
     "metadata": {},
     "output_type": "execute_result"
    }
   ],
   "source": [
    "# First we filter by Country, to get only the Japanese ramen reviews.\n",
    "ramenJapan = ramen[ramen['Country'] == 'Japan']\n",
    "ramenJapan.head()"
   ]
  },
  {
   "cell_type": "code",
   "execution_count": 24,
   "id": "cardiovascular-speaking",
   "metadata": {},
   "outputs": [
    {
     "data": {
      "text/html": [
       "<div>\n",
       "<style scoped>\n",
       "    .dataframe tbody tr th:only-of-type {\n",
       "        vertical-align: middle;\n",
       "    }\n",
       "\n",
       "    .dataframe tbody tr th {\n",
       "        vertical-align: top;\n",
       "    }\n",
       "\n",
       "    .dataframe thead th {\n",
       "        text-align: right;\n",
       "    }\n",
       "</style>\n",
       "<table border=\"1\" class=\"dataframe\">\n",
       "  <thead>\n",
       "    <tr style=\"text-align: right;\">\n",
       "      <th></th>\n",
       "      <th>Stars</th>\n",
       "    </tr>\n",
       "    <tr>\n",
       "      <th>Style</th>\n",
       "      <th></th>\n",
       "    </tr>\n",
       "  </thead>\n",
       "  <tbody>\n",
       "    <tr>\n",
       "      <th>Box</th>\n",
       "      <td>5.000000</td>\n",
       "    </tr>\n",
       "    <tr>\n",
       "      <th>Tray</th>\n",
       "      <td>4.375000</td>\n",
       "    </tr>\n",
       "    <tr>\n",
       "      <th>Bowl</th>\n",
       "      <td>4.140278</td>\n",
       "    </tr>\n",
       "    <tr>\n",
       "      <th>Cup</th>\n",
       "      <td>3.940816</td>\n",
       "    </tr>\n",
       "    <tr>\n",
       "      <th>Pack</th>\n",
       "      <td>3.801613</td>\n",
       "    </tr>\n",
       "  </tbody>\n",
       "</table>\n",
       "</div>"
      ],
      "text/plain": [
       "          Stars\n",
       "Style          \n",
       "Box    5.000000\n",
       "Tray   4.375000\n",
       "Bowl   4.140278\n",
       "Cup    3.940816\n",
       "Pack   3.801613"
      ]
     },
     "execution_count": 24,
     "metadata": {},
     "output_type": "execute_result"
    }
   ],
   "source": [
    "# We then group by Style and find the average stars of each.\n",
    "by_style_rating_JP = ramenJapan.groupby('Style').mean().sort_values(by='Stars', ascending=False)\n",
    "by_style_rating_JP"
   ]
  },
  {
   "cell_type": "code",
   "execution_count": 25,
   "id": "close-george",
   "metadata": {},
   "outputs": [
    {
     "data": {
      "image/png": "[encoded data removed]",
      "text/plain": [
       "<Figure size 432x288 with 1 Axes>"
      ]
     },
     "metadata": {},
     "output_type": "display_data"
    }
   ],
   "source": [
    "by_style_rating_JP.plot(y='Stars', kind='bar', color = 'pink')\n",
    "plt.title('Japanese Ramen Styles by Rating')\n",
    "plt.ylabel('Average Stars')\n",
    "plt.show()"
   ]
  },
  {
   "cell_type": "markdown",
   "id": "preliminary-purse",
   "metadata": {},
   "source": [
    "Finally, we find out that **Box** ramen has a perfect average rating in Japan. Since we know that there are not many reviews of Box ramen, we could also take **Tray** ramen as a more certain answer. However, since both types are extremely similar, the analysis still gives us insight into the preferences in ramen presentation of Japanese people."
   ]
  }
 ],
 "metadata": {
  "kernelspec": {
   "display_name": "Python 3",
   "language": "python",
   "name": "python3"
  },
  "language_info": {
   "codemirror_mode": {
    "name": "ipython",
    "version": 3
   },
   "file_extension": ".py",
   "mimetype": "text/x-python",
   "name": "python",
   "nbconvert_exporter": "python",
   "pygments_lexer": "ipython3",
   "version": "3.9.2"
  }
 },
 "nbformat": 4,
 "nbformat_minor": 5
}
